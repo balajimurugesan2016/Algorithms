{
  "nbformat": 4,
  "nbformat_minor": 0,
  "metadata": {
    "colab": {
      "provenance": [],
      "gpuType": "T4",
      "authorship_tag": "ABX9TyN/zsedyyZwpdXrm+/nypfR",
      "include_colab_link": true
    },
    "kernelspec": {
      "name": "python3",
      "display_name": "Python 3"
    },
    "language_info": {
      "name": "python"
    },
    "accelerator": "GPU"
  },
  "cells": [
    {
      "cell_type": "markdown",
      "metadata": {
        "id": "view-in-github",
        "colab_type": "text"
      },
      "source": [
        "<a href=\"https://colab.research.google.com/github/balajimurugesan2016/Algorithms/blob/master/AIQuestions.ipynb\" target=\"_parent\"><img src=\"https://colab.research.google.com/assets/colab-badge.svg\" alt=\"Open In Colab\"/></a>"
      ]
    },
    {
      "cell_type": "code",
      "execution_count": null,
      "metadata": {
        "colab": {
          "base_uri": "https://localhost:8080/"
        },
        "id": "mJdgHO-m48m0",
        "outputId": "1fa26038-c147-4d5f-b6b6-6763e74a4c35"
      },
      "outputs": [
        {
          "output_type": "stream",
          "name": "stdout",
          "text": [
            "Collecting PyPDF2\n",
            "  Downloading pypdf2-3.0.1-py3-none-any.whl.metadata (6.8 kB)\n",
            "Downloading pypdf2-3.0.1-py3-none-any.whl (232 kB)\n",
            "\u001b[?25l   \u001b[90m━━━━━━━━━━━━━━━━━━━━━━━━━━━━━━━━━━━━━━━━\u001b[0m \u001b[32m0.0/232.6 kB\u001b[0m \u001b[31m?\u001b[0m eta \u001b[36m-:--:--\u001b[0m\r\u001b[2K   \u001b[90m━━━━━━━━━━━━━━━━━━━━━━━━━━━━━━━━━━━━━━━━\u001b[0m \u001b[32m232.6/232.6 kB\u001b[0m \u001b[31m17.1 MB/s\u001b[0m eta \u001b[36m0:00:00\u001b[0m\n",
            "\u001b[?25hInstalling collected packages: PyPDF2\n",
            "Successfully installed PyPDF2-3.0.1\n",
            "Repaired PDF saved to /content/GS English Set-B-rep.pdf\n"
          ]
        }
      ],
      "source": [
        "!pip install cv2\n",
        "import easyocr\n",
        "\n",
        "import PyPDF2\n",
        "\n",
        "# Replace with your PDF path\n",
        "input_pdf_path = '/content/GS English Set-B.pdf'\n",
        "repaired_pdf_path = '/content/GS English Set-B-rep.pdf'\n",
        "\n",
        "try:\n",
        "    with open(input_pdf_path, 'rb') as input_file:\n",
        "        reader = PyPDF2.PdfReader(input_file, strict=False)  # Allow malformed PDFs\n",
        "        writer = PyPDF2.PdfWriter()\n",
        "        for page in reader.pages:\n",
        "            writer.add_page(page)\n",
        "        with open(repaired_pdf_path, 'wb') as output_file:\n",
        "            writer.write(output_file)\n",
        "    print(f\"Repaired PDF saved to {repaired_pdf_path}\")\n",
        "except Exception as e:\n",
        "    print(f\"Error repairing PDF: {e}\")"
      ]
    }
  ]
}